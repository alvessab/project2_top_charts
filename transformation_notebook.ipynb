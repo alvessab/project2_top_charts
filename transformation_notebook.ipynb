{
 "cells": [
  {
   "cell_type": "code",
   "execution_count": 1,
   "id": "28a2b164",
   "metadata": {},
   "outputs": [],
   "source": [
    "import pandas as pd"
   ]
  },
  {
   "cell_type": "code",
   "execution_count": 3,
   "id": "0cf759cb",
   "metadata": {},
   "outputs": [
    {
     "data": {
      "text/html": [
       "<div>\n",
       "<style scoped>\n",
       "    .dataframe tbody tr th:only-of-type {\n",
       "        vertical-align: middle;\n",
       "    }\n",
       "\n",
       "    .dataframe tbody tr th {\n",
       "        vertical-align: top;\n",
       "    }\n",
       "\n",
       "    .dataframe thead th {\n",
       "        text-align: right;\n",
       "    }\n",
       "</style>\n",
       "<table border=\"1\" class=\"dataframe\">\n",
       "  <thead>\n",
       "    <tr style=\"text-align: right;\">\n",
       "      <th></th>\n",
       "      <th>Unnamed: 0</th>\n",
       "      <th>spotify_rank</th>\n",
       "      <th>song_name</th>\n",
       "      <th>artist</th>\n",
       "      <th>spotify_stream_count</th>\n",
       "      <th>peak_rank</th>\n",
       "      <th>previous_rank</th>\n",
       "      <th>streak_list</th>\n",
       "      <th>list_date</th>\n",
       "    </tr>\n",
       "  </thead>\n",
       "  <tbody>\n",
       "    <tr>\n",
       "      <th>0</th>\n",
       "      <td>0</td>\n",
       "      <td>1</td>\n",
       "      <td>Heat Waves</td>\n",
       "      <td>Glass Animals</td>\n",
       "      <td>934,726</td>\n",
       "      <td>1</td>\n",
       "      <td>1</td>\n",
       "      <td>446</td>\n",
       "      <td>03/16/2022</td>\n",
       "    </tr>\n",
       "    <tr>\n",
       "      <th>1</th>\n",
       "      <td>1</td>\n",
       "      <td>2</td>\n",
       "      <td>Super Gremlin</td>\n",
       "      <td>Kodak Black</td>\n",
       "      <td>733,927</td>\n",
       "      <td>2</td>\n",
       "      <td>3</td>\n",
       "      <td>108</td>\n",
       "      <td>03/16/2022</td>\n",
       "    </tr>\n",
       "    <tr>\n",
       "      <th>2</th>\n",
       "      <td>2</td>\n",
       "      <td>3</td>\n",
       "      <td>We Don't Talk About Bruno</td>\n",
       "      <td>Carolina Gaitán - La Gaita, Mauro Castillo, Ad...</td>\n",
       "      <td>726,391</td>\n",
       "      <td>1</td>\n",
       "      <td>4</td>\n",
       "      <td>81</td>\n",
       "      <td>03/16/2022</td>\n",
       "    </tr>\n",
       "    <tr>\n",
       "      <th>3</th>\n",
       "      <td>3</td>\n",
       "      <td>4</td>\n",
       "      <td>Something In The Way</td>\n",
       "      <td>Nirvana</td>\n",
       "      <td>723,210</td>\n",
       "      <td>2</td>\n",
       "      <td>2</td>\n",
       "      <td>11</td>\n",
       "      <td>03/16/2022</td>\n",
       "    </tr>\n",
       "    <tr>\n",
       "      <th>4</th>\n",
       "      <td>4</td>\n",
       "      <td>5</td>\n",
       "      <td>STAY (with Justin Bieber)</td>\n",
       "      <td>The Kid LAROI, Justin Bieber</td>\n",
       "      <td>679,258</td>\n",
       "      <td>1</td>\n",
       "      <td>5</td>\n",
       "      <td>251</td>\n",
       "      <td>03/16/2022</td>\n",
       "    </tr>\n",
       "  </tbody>\n",
       "</table>\n",
       "</div>"
      ],
      "text/plain": [
       "   Unnamed: 0  spotify_rank                  song_name  \\\n",
       "0           0             1                 Heat Waves   \n",
       "1           1             2              Super Gremlin   \n",
       "2           2             3  We Don't Talk About Bruno   \n",
       "3           3             4       Something In The Way   \n",
       "4           4             5  STAY (with Justin Bieber)   \n",
       "\n",
       "                                              artist spotify_stream_count  \\\n",
       "0                                      Glass Animals              934,726   \n",
       "1                                        Kodak Black              733,927   \n",
       "2  Carolina Gaitán - La Gaita, Mauro Castillo, Ad...              726,391   \n",
       "3                                            Nirvana              723,210   \n",
       "4                       The Kid LAROI, Justin Bieber              679,258   \n",
       "\n",
       "   peak_rank previous_rank  streak_list   list_date  \n",
       "0          1             1          446  03/16/2022  \n",
       "1          2             3          108  03/16/2022  \n",
       "2          1             4           81  03/16/2022  \n",
       "3          2             2           11  03/16/2022  \n",
       "4          1             5          251  03/16/2022  "
      ]
     },
     "execution_count": 3,
     "metadata": {},
     "output_type": "execute_result"
    }
   ],
   "source": [
    "#read in spotify data\n",
    "path = \"Spotify_data.csv\"\n",
    "\n",
    "spotify = pd.read_csv(path)\n",
    "spotify.head()"
   ]
  },
  {
   "cell_type": "code",
   "execution_count": null,
   "id": "8fed6512",
   "metadata": {},
   "outputs": [],
   "source": [
    "#read in apple data\n"
   ]
  },
  {
   "cell_type": "code",
   "execution_count": null,
   "id": "0a39bdcf",
   "metadata": {},
   "outputs": [],
   "source": [
    "#join together csv files\n"
   ]
  }
 ],
 "metadata": {
  "kernelspec": {
   "display_name": "Python 3 (ipykernel)",
   "language": "python",
   "name": "python3"
  },
  "language_info": {
   "codemirror_mode": {
    "name": "ipython",
    "version": 3
   },
   "file_extension": ".py",
   "mimetype": "text/x-python",
   "name": "python",
   "nbconvert_exporter": "python",
   "pygments_lexer": "ipython3",
   "version": "3.9.7"
  }
 },
 "nbformat": 4,
 "nbformat_minor": 5
}
