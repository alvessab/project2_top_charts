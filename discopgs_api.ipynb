{
 "cells": [
  {
   "cell_type": "code",
   "execution_count": 3,
   "id": "11941b86",
   "metadata": {},
   "outputs": [],
   "source": [
    "import pandas as pd\n",
    "import discogs_client\n",
    "\n",
    "#discogs github: https://github.com/joalla/discogs_client\n",
    "\n",
    "# API Key\n",
    "from config import key"
   ]
  },
  {
   "cell_type": "code",
   "execution_count": 4,
   "id": "aba8612b",
   "metadata": {},
   "outputs": [],
   "source": [
    "d = discogs_client.Client('alvessab/1.0', user_token=key)"
   ]
  },
  {
   "cell_type": "markdown",
   "id": "b36f889c",
   "metadata": {},
   "source": [
    "## Experimentation for Data Retrieval"
   ]
  },
  {
   "cell_type": "code",
   "execution_count": 14,
   "id": "ebe743a4",
   "metadata": {},
   "outputs": [
    {
     "data": {
      "text/plain": [
       "1"
      ]
     },
     "execution_count": 14,
     "metadata": {},
     "output_type": "execute_result"
    }
   ],
   "source": [
    "results = d.search('Heat Waves', artist='Glass Animals')\n",
    "results.pages"
   ]
  },
  {
   "cell_type": "code",
   "execution_count": 16,
   "id": "d714dcbf",
   "metadata": {},
   "outputs": [
    {
     "name": "stdout",
     "output_type": "stream",
     "text": [
      "[<Release 18164947 'Glass Animals - Heat Waves'>, <Master 1783904 'Glass Animals - Dreamland'>, <Release 15767716 'Glass Animals - Dreamland'>, <Release 15727330 'Glass Animals - Dreamland'>, <Release 15733457 'Glass Animals - Dreamland'>, <Release 15733421 'Glass Animals - Dreamland'>, <Release 15724792 'Glass Animals - Dreamland'>, <Release 16641492 'Glass Animals - Dreamland'>, <Release 15734772 'Glass Animals - Dreamland'>, <Release 21394663 'Glass Animals - Dreamland'>, <Release 15726402 'Glass Animals - Dreamland'>, <Release 15734342 'Glass Animals - Dreamland'>, <Release 15734227 'Glass Animals - Dreamland'>, <Release 15734232 'Glass Animals - Dreamland'>, <Release 15734173 'Glass Animals - Dreamland'>, <Release 15734222 'Glass Animals - Dreamland'>, <Release 15767815 'Glass Animals - Dreamland'>, <Release 15890289 'Glass Animals - Dreamland'>, <Release 17171518 'Glass Animals - Dreamland'>, <Release 21312970 'Glass Animals - Dreamland'>, <Release 21394654 'Glass Animals - Dreamland'>]\n"
     ]
    }
   ],
   "source": [
    "print(results.page(1))"
   ]
  },
  {
   "cell_type": "code",
   "execution_count": 18,
   "id": "4fae3e92",
   "metadata": {},
   "outputs": [
    {
     "data": {
      "text/plain": [
       "<Release 18164947 'Glass Animals - Heat Waves'>"
      ]
     },
     "execution_count": 18,
     "metadata": {},
     "output_type": "execute_result"
    }
   ],
   "source": [
    "#information from first result (most likely answer)\n",
    "first = results.page(1)[0]\n",
    "first"
   ]
  },
  {
   "cell_type": "code",
   "execution_count": 24,
   "id": "06e5082e",
   "metadata": {},
   "outputs": [
    {
     "data": {
      "text/plain": [
       "discogs_client.models.Release"
      ]
     },
     "execution_count": 24,
     "metadata": {},
     "output_type": "execute_result"
    }
   ],
   "source": [
    "#identify data type\n",
    "type(first)"
   ]
  },
  {
   "cell_type": "code",
   "execution_count": 26,
   "id": "eaad04c3",
   "metadata": {},
   "outputs": [
    {
     "data": {
      "text/plain": [
       "\"<Release 18164947 'Glass Animals - Heat Waves'>\""
      ]
     },
     "execution_count": 26,
     "metadata": {},
     "output_type": "execute_result"
    }
   ],
   "source": [
    "first_string = str(first)\n",
    "first_string"
   ]
  },
  {
   "cell_type": "code",
   "execution_count": 33,
   "id": "fd2456e3",
   "metadata": {},
   "outputs": [
    {
     "data": {
      "text/plain": [
       "['<Release', '18164947', \"'Glass\", 'Animals', '-', 'Heat', \"Waves'>\"]"
      ]
     },
     "execution_count": 33,
     "metadata": {},
     "output_type": "execute_result"
    }
   ],
   "source": [
    "split = first_string.split(\" \")\n",
    "split"
   ]
  },
  {
   "cell_type": "code",
   "execution_count": 35,
   "id": "38996e38",
   "metadata": {},
   "outputs": [
    {
     "data": {
      "text/plain": [
       "'18164947'"
      ]
     },
     "execution_count": 35,
     "metadata": {},
     "output_type": "execute_result"
    }
   ],
   "source": [
    "rel_id = split[1]\n",
    "rel_id"
   ]
  },
  {
   "cell_type": "code",
   "execution_count": 48,
   "id": "1667b43c",
   "metadata": {},
   "outputs": [
    {
     "ename": "AttributeError",
     "evalue": "'Release' object has no attribute 'label'",
     "output_type": "error",
     "traceback": [
      "\u001b[0;31m---------------------------------------------------------------------------\u001b[0m",
      "\u001b[0;31mAttributeError\u001b[0m                            Traceback (most recent call last)",
      "\u001b[0;32m/var/folders/93/69nrl93d0k36xslv9kn84gcc0000gn/T/ipykernel_29529/3350375373.py\u001b[0m in \u001b[0;36m<module>\u001b[0;34m\u001b[0m\n\u001b[0;32m----> 1\u001b[0;31m \u001b[0msong\u001b[0m \u001b[0;34m=\u001b[0m \u001b[0md\u001b[0m\u001b[0;34m.\u001b[0m\u001b[0mrelease\u001b[0m\u001b[0;34m(\u001b[0m\u001b[0mrel_id\u001b[0m\u001b[0;34m)\u001b[0m\u001b[0;34m.\u001b[0m\u001b[0mlabel\u001b[0m\u001b[0;34m\u001b[0m\u001b[0;34m\u001b[0m\u001b[0m\n\u001b[0m\u001b[1;32m      2\u001b[0m \u001b[0msong\u001b[0m\u001b[0;34m\u001b[0m\u001b[0;34m\u001b[0m\u001b[0m\n",
      "\u001b[0;31mAttributeError\u001b[0m: 'Release' object has no attribute 'label'"
     ]
    }
   ],
   "source": [
    "song = d.release(rel_id).label\n",
    "song"
   ]
  },
  {
   "cell_type": "code",
   "execution_count": 49,
   "id": "194f83ba",
   "metadata": {},
   "outputs": [
    {
     "ename": "AttributeError",
     "evalue": "'Release' object has no attribute 'versions'",
     "output_type": "error",
     "traceback": [
      "\u001b[0;31m---------------------------------------------------------------------------\u001b[0m",
      "\u001b[0;31mAttributeError\u001b[0m                            Traceback (most recent call last)",
      "\u001b[0;32m/var/folders/93/69nrl93d0k36xslv9kn84gcc0000gn/T/ipykernel_29529/3636204205.py\u001b[0m in \u001b[0;36m<module>\u001b[0;34m\u001b[0m\n\u001b[0;32m----> 1\u001b[0;31m \u001b[0mreleases\u001b[0m \u001b[0;34m=\u001b[0m \u001b[0md\u001b[0m\u001b[0;34m.\u001b[0m\u001b[0msearch\u001b[0m\u001b[0;34m(\u001b[0m\u001b[0;34m'Bit Shifter'\u001b[0m\u001b[0;34m,\u001b[0m \u001b[0mtype\u001b[0m\u001b[0;34m=\u001b[0m\u001b[0;34m'artist'\u001b[0m\u001b[0;34m)\u001b[0m\u001b[0;34m[\u001b[0m\u001b[0;36m0\u001b[0m\u001b[0;34m]\u001b[0m\u001b[0;34m.\u001b[0m\u001b[0mreleases\u001b[0m\u001b[0;34m[\u001b[0m\u001b[0;36m1\u001b[0m\u001b[0;34m]\u001b[0m\u001b[0;34m.\u001b[0m\u001b[0;31m\\\u001b[0m\u001b[0;34m\u001b[0m\u001b[0;34m\u001b[0m\u001b[0m\n\u001b[0m\u001b[1;32m      2\u001b[0m \u001b[0mversions\u001b[0m\u001b[0;34m[\u001b[0m\u001b[0;36m0\u001b[0m\u001b[0;34m]\u001b[0m\u001b[0;34m.\u001b[0m\u001b[0mlabels\u001b[0m\u001b[0;34m[\u001b[0m\u001b[0;36m0\u001b[0m\u001b[0;34m]\u001b[0m\u001b[0;34m.\u001b[0m\u001b[0mreleases\u001b[0m\u001b[0;34m\u001b[0m\u001b[0;34m\u001b[0m\u001b[0m\n\u001b[1;32m      3\u001b[0m \u001b[0mlen\u001b[0m\u001b[0;34m(\u001b[0m\u001b[0mreleases\u001b[0m\u001b[0;34m)\u001b[0m\u001b[0;34m\u001b[0m\u001b[0;34m\u001b[0m\u001b[0m\n",
      "\u001b[0;31mAttributeError\u001b[0m: 'Release' object has no attribute 'versions'"
     ]
    }
   ],
   "source": [
    "releases = d.search('Bit Shifter', type='artist')[0].releases[1].\\\n",
    "versions[0].labels[0].releases\n",
    "len(releases)"
   ]
  },
  {
   "cell_type": "code",
   "execution_count": null,
   "id": "8dbd39a3",
   "metadata": {},
   "outputs": [],
   "source": []
  }
 ],
 "metadata": {
  "kernelspec": {
   "display_name": "Python 3 (ipykernel)",
   "language": "python",
   "name": "python3"
  },
  "language_info": {
   "codemirror_mode": {
    "name": "ipython",
    "version": 3
   },
   "file_extension": ".py",
   "mimetype": "text/x-python",
   "name": "python",
   "nbconvert_exporter": "python",
   "pygments_lexer": "ipython3",
   "version": "3.9.7"
  }
 },
 "nbformat": 4,
 "nbformat_minor": 5
}
