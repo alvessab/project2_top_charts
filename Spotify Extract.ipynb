{
 "cells": [
  {
   "cell_type": "code",
   "execution_count": 14,
   "id": "00645275",
   "metadata": {},
   "outputs": [],
   "source": [
    "#import dependencies\n",
    "from splinter import Browser\n",
    "from bs4 import BeautifulSoup\n",
    "from webdriver_manager.chrome import ChromeDriverManager\n",
    "from selenium import webdriver\n",
    "import pandas as pd\n",
    "\n",
    "\n",
    "from selenium.webdriver.support.ui import WebDriverWait\n",
    "import time"
   ]
  },
  {
   "cell_type": "code",
   "execution_count": 15,
   "id": "9d930771",
   "metadata": {},
   "outputs": [
    {
     "name": "stderr",
     "output_type": "stream",
     "text": [
      "\n",
      "\n",
      "====== WebDriver manager ======\n",
      "Current google-chrome version is 99.0.4844\n",
      "Get LATEST chromedriver version for 99.0.4844 google-chrome\n",
      "Driver [/Users/sabrinaalves/.wdm/drivers/chromedriver/mac64/99.0.4844.51/chromedriver] found in cache\n"
     ]
    }
   ],
   "source": [
    "# Setup splinter\n",
    "executable_path = {'executable_path': ChromeDriverManager().install()}\n",
    "browser = Browser('chrome', **executable_path, headless=False)"
   ]
  },
  {
   "cell_type": "code",
   "execution_count": null,
   "id": "a1938e5a",
   "metadata": {},
   "outputs": [],
   "source": []
  },
  {
   "cell_type": "code",
   "execution_count": 39,
   "id": "d1b8be00",
   "metadata": {},
   "outputs": [],
   "source": [
    "\n",
    "#url for top music:\n",
    "url = 'https://charts.spotify.com/charts/view/regional-us-daily/2022-03-16'\n",
    "browser.visit(url)"
   ]
  },
  {
   "cell_type": "code",
   "execution_count": 40,
   "id": "6dcd242c",
   "metadata": {},
   "outputs": [],
   "source": [
    "html = browser.html"
   ]
  },
  {
   "cell_type": "code",
   "execution_count": 41,
   "id": "4a32f7cb",
   "metadata": {},
   "outputs": [],
   "source": [
    "soup = BeautifulSoup(html, \"lxml\")"
   ]
  },
  {
   "cell_type": "code",
   "execution_count": null,
   "id": "d1c708e3",
   "metadata": {},
   "outputs": [],
   "source": []
  },
  {
   "cell_type": "code",
   "execution_count": 43,
   "id": "48a48edf",
   "metadata": {},
   "outputs": [
    {
     "data": {
      "text/plain": [
       "<tr class=\"TableRow__TableRowElement-sc-1kuhzdh-0 efgyOe\"><td class=\"TableCell__TableCellElement-sc-1nn7cfv-0 dxDmxU\" style=\"background-color: white; border: 1px solid white; min-width: 48px;\"></td><td class=\"TableCell__TableCellElement-sc-1nn7cfv-0 dbzMca\"><div class=\"ChartPositionIndicator__PositionIndicator-sc-1iaae1g-0 foutzN\"><span aria-label=\"Current position\" class=\"Type__TypeElement-goli3j-0 bEhxrK\">1</span><div aria-label=\"Chart position no change\" class=\"ChartPositionIndicator__MovementBadge-sc-1iaae1g-1 hpjcDI\"><span class=\"Type__TypeElement-goli3j-0 kIhulN\"> – </span></div></div></td><td class=\"TableCell__TableCellElement-sc-1nn7cfv-0 dxDmxU\"><div class=\"ChartsTable__StyledThumbnail-sc-1ye7294-12 igdVon\"><div class=\"ChartsTable__ImageContainer-sc-1ye7294-19 FVoPV\"><img alt=\"Track image\" class=\"Image-sc-1u215sg-3 biGZvZ ChartsTable__StyledImage-sc-1ye7294-18 kyxyvY\" src=\"https://i.scdn.co/image/ab67616d00001e029e495fb707973f3390850eea\"/><a class=\"Button-me270r-0 jvbjPm ChartsTable__StyledButtonIcon-sc-1ye7294-15 kbAYto\" href=\"https://open.spotify.com/track/02MWAaffLxlfxAUY7c5dvx\" rel=\"noopener noreferrer\" target=\"_blank\" type=\"button\"><svg aria-label=\"Play song\" class=\"Svg-sc-1bi12j5-0 hDgDGI ChartsTable__StyledIconPlay-sc-1ye7294-17 iDPPzE play-icon\" height=\"32\" role=\"img\" viewbox=\"0 0 32 32\" width=\"32\"><path d=\"M9.5 27.134l17.785-10.268a1 1 0 000-1.732L9.5 4.866a1 1 0 00-1.5.866v20.536a1 1 0 001.5.866z\"></path></svg></a><div class=\"ChartsTable__Overlay-sc-1ye7294-14 jVShHq overlay\"></div></div><div class=\"ChartsTable__Wrapper-sc-1ye7294-13 dPmuOo\"><a href=\"https://open.spotify.com/track/02MWAaffLxlfxAUY7c5dvx\" rel=\"noopener noreferrer\" style=\"text-decoration: none;\" target=\"_blank\"><div><span class=\"Trigger-sc-1qpjssw-0 PYhSS\"><span class=\"TooltipTrigger__TriggerContainer-sc-13ojzs2-0 cMaALx\"><div class=\"ChartsTable__PopoverContainer-sc-1ye7294-10 jpQEJM\"><span class=\"ChartsTable__StyledTruncatedTitle-sc-1ye7294-21 eGdjDX\"> Heat Waves</span></div></span></span></div></a><div><span class=\"Trigger-sc-1qpjssw-0 PYhSS\"><span class=\"TooltipTrigger__TriggerContainer-sc-13ojzs2-0 cMaALx\"><div class=\"ChartsTable__PopoverContainer-sc-1ye7294-10 jpQEJM\"><div class=\"ChartsTable__StyledArtistsTruncatedDiv-sc-1ye7294-33 bZdWHA\"><p class=\"Type__TypeElement-goli3j-0 ebjAeb\"><span><a class=\"ChartsTable__StyledHyperlink-sc-1ye7294-29 kNSTFc\" href=\"https://open.spotify.com/artist/4yvcSjfu4PC0CYQyLy4wSq\" rel=\"noopener noreferrer\" target=\"_blank\">Glass Animals</a></span></p></div></div></span></span></div><span class=\"ChartsTable__StyledSubtitle-sc-1ye7294-22 lmawhB\"></span></div></div></td><td class=\"TableCell__TableCellElement-sc-1nn7cfv-0 dbzMca ChartsTable__RightTableCell-sc-1ye7294-2 gNLJrc\">1</td><td class=\"TableCell__TableCellElement-sc-1nn7cfv-0 dbzMca ChartsTable__RightTableCell-sc-1ye7294-2 gNLJrc\"><span>1</span></td><td class=\"TableCell__TableCellElement-sc-1nn7cfv-0 dbzMca ChartsTable__RightTableCell-sc-1ye7294-2 gNLJrc\">446</td><td class=\"TableCell__TableCellElement-sc-1nn7cfv-0 dxDmxU ChartsTable__RightTableCell-sc-1ye7294-2 gNLJrc\">934,726</td><td class=\"TableCell__TableCellElement-sc-1nn7cfv-0 hBXYUl\" style=\"min-width: 80px;\"></td><td class=\"TableCell__TableCellElement-sc-1nn7cfv-0 dxDmxU\" style=\"background-color: white; border: 1px solid white; min-width: 48px;\"></td></tr>"
      ]
     },
     "execution_count": 43,
     "metadata": {},
     "output_type": "execute_result"
    }
   ],
   "source": [
    "items = soup.find_all(\"tr\", {\"class\":\"TableRow__TableRowElement-sc-1kuhzdh-0 efgyOe\"})\n",
    "item= items[0]\n",
    "item"
   ]
  },
  {
   "cell_type": "code",
   "execution_count": 44,
   "id": "3cb40ff7",
   "metadata": {},
   "outputs": [
    {
     "data": {
      "text/plain": [
       "201"
      ]
     },
     "execution_count": 44,
     "metadata": {},
     "output_type": "execute_result"
    }
   ],
   "source": [
    "container = soup.find(\"table\", {\"class\": \"Table__TableElement-evwssh-0 jCpqYV ChartsTable__StyledTable-sc-1ye7294-5 bgJkYy\"})\n",
    "rankings = container.find_all(\"tr\")\n",
    "len(rankings)\n",
    "\n"
   ]
  },
  {
   "cell_type": "code",
   "execution_count": 46,
   "id": "b684e5ca",
   "metadata": {},
   "outputs": [
    {
     "data": {
      "text/plain": [
       "<tr class=\"TableRow__TableRowElement-sc-1kuhzdh-0 efgyOe\"><td class=\"TableCell__TableCellElement-sc-1nn7cfv-0 dxDmxU\" style=\"background-color: white; border: 1px solid white; min-width: 48px;\"></td><td class=\"TableCell__TableCellElement-sc-1nn7cfv-0 dbzMca\"><div class=\"ChartPositionIndicator__PositionIndicator-sc-1iaae1g-0 foutzN\"><span aria-label=\"Current position\" class=\"Type__TypeElement-goli3j-0 bEhxrK\">1</span><div aria-label=\"Chart position no change\" class=\"ChartPositionIndicator__MovementBadge-sc-1iaae1g-1 hpjcDI\"><span class=\"Type__TypeElement-goli3j-0 kIhulN\"> – </span></div></div></td><td class=\"TableCell__TableCellElement-sc-1nn7cfv-0 dxDmxU\"><div class=\"ChartsTable__StyledThumbnail-sc-1ye7294-12 igdVon\"><div class=\"ChartsTable__ImageContainer-sc-1ye7294-19 FVoPV\"><img alt=\"Track image\" class=\"Image-sc-1u215sg-3 biGZvZ ChartsTable__StyledImage-sc-1ye7294-18 kyxyvY\" src=\"https://i.scdn.co/image/ab67616d00001e029e495fb707973f3390850eea\"/><a class=\"Button-me270r-0 jvbjPm ChartsTable__StyledButtonIcon-sc-1ye7294-15 kbAYto\" href=\"https://open.spotify.com/track/02MWAaffLxlfxAUY7c5dvx\" rel=\"noopener noreferrer\" target=\"_blank\" type=\"button\"><svg aria-label=\"Play song\" class=\"Svg-sc-1bi12j5-0 hDgDGI ChartsTable__StyledIconPlay-sc-1ye7294-17 iDPPzE play-icon\" height=\"32\" role=\"img\" viewbox=\"0 0 32 32\" width=\"32\"><path d=\"M9.5 27.134l17.785-10.268a1 1 0 000-1.732L9.5 4.866a1 1 0 00-1.5.866v20.536a1 1 0 001.5.866z\"></path></svg></a><div class=\"ChartsTable__Overlay-sc-1ye7294-14 jVShHq overlay\"></div></div><div class=\"ChartsTable__Wrapper-sc-1ye7294-13 dPmuOo\"><a href=\"https://open.spotify.com/track/02MWAaffLxlfxAUY7c5dvx\" rel=\"noopener noreferrer\" style=\"text-decoration: none;\" target=\"_blank\"><div><span class=\"Trigger-sc-1qpjssw-0 PYhSS\"><span class=\"TooltipTrigger__TriggerContainer-sc-13ojzs2-0 cMaALx\"><div class=\"ChartsTable__PopoverContainer-sc-1ye7294-10 jpQEJM\"><span class=\"ChartsTable__StyledTruncatedTitle-sc-1ye7294-21 eGdjDX\"> Heat Waves</span></div></span></span></div></a><div><span class=\"Trigger-sc-1qpjssw-0 PYhSS\"><span class=\"TooltipTrigger__TriggerContainer-sc-13ojzs2-0 cMaALx\"><div class=\"ChartsTable__PopoverContainer-sc-1ye7294-10 jpQEJM\"><div class=\"ChartsTable__StyledArtistsTruncatedDiv-sc-1ye7294-33 bZdWHA\"><p class=\"Type__TypeElement-goli3j-0 ebjAeb\"><span><a class=\"ChartsTable__StyledHyperlink-sc-1ye7294-29 kNSTFc\" href=\"https://open.spotify.com/artist/4yvcSjfu4PC0CYQyLy4wSq\" rel=\"noopener noreferrer\" target=\"_blank\">Glass Animals</a></span></p></div></div></span></span></div><span class=\"ChartsTable__StyledSubtitle-sc-1ye7294-22 lmawhB\"></span></div></div></td><td class=\"TableCell__TableCellElement-sc-1nn7cfv-0 dbzMca ChartsTable__RightTableCell-sc-1ye7294-2 gNLJrc\">1</td><td class=\"TableCell__TableCellElement-sc-1nn7cfv-0 dbzMca ChartsTable__RightTableCell-sc-1ye7294-2 gNLJrc\"><span>1</span></td><td class=\"TableCell__TableCellElement-sc-1nn7cfv-0 dbzMca ChartsTable__RightTableCell-sc-1ye7294-2 gNLJrc\">446</td><td class=\"TableCell__TableCellElement-sc-1nn7cfv-0 dxDmxU ChartsTable__RightTableCell-sc-1ye7294-2 gNLJrc\">934,726</td><td class=\"TableCell__TableCellElement-sc-1nn7cfv-0 hBXYUl\" style=\"min-width: 80px;\"></td><td class=\"TableCell__TableCellElement-sc-1nn7cfv-0 dxDmxU\" style=\"background-color: white; border: 1px solid white; min-width: 48px;\"></td></tr>"
      ]
     },
     "execution_count": 46,
     "metadata": {},
     "output_type": "execute_result"
    }
   ],
   "source": [
    "rankings[1]"
   ]
  },
  {
   "cell_type": "code",
   "execution_count": null,
   "id": "6fcc19be",
   "metadata": {},
   "outputs": [],
   "source": [
    "#ranking\n"
   ]
  },
  {
   "cell_type": "code",
   "execution_count": 53,
   "id": "2a6ce4b8",
   "metadata": {},
   "outputs": [
    {
     "ename": "AttributeError",
     "evalue": "'NoneType' object has no attribute 'text'",
     "output_type": "error",
     "traceback": [
      "\u001b[0;31m---------------------------------------------------------------------------\u001b[0m",
      "\u001b[0;31mAttributeError\u001b[0m                            Traceback (most recent call last)",
      "\u001b[0;32m/var/folders/93/69nrl93d0k36xslv9kn84gcc0000gn/T/ipykernel_13714/903860179.py\u001b[0m in \u001b[0;36m<module>\u001b[0;34m\u001b[0m\n\u001b[1;32m      1\u001b[0m \u001b[0;31m#song name\u001b[0m\u001b[0;34m\u001b[0m\u001b[0;34m\u001b[0m\u001b[0m\n\u001b[0;32m----> 2\u001b[0;31m \u001b[0mname\u001b[0m \u001b[0;34m=\u001b[0m \u001b[0mitem\u001b[0m\u001b[0;34m.\u001b[0m\u001b[0mfind\u001b[0m\u001b[0;34m(\u001b[0m\u001b[0;34m{\u001b[0m\u001b[0;34m\"class\"\u001b[0m\u001b[0;34m:\u001b[0m \u001b[0;34m\"ChartsTable__StyledTruncatedTitle-sc-1ye7294-21 eGdjDX\"\u001b[0m\u001b[0;34m}\u001b[0m\u001b[0;34m)\u001b[0m\u001b[0;34m.\u001b[0m\u001b[0mtext\u001b[0m\u001b[0;34m\u001b[0m\u001b[0;34m\u001b[0m\u001b[0m\n\u001b[0m\u001b[1;32m      3\u001b[0m \u001b[0mname\u001b[0m\u001b[0;34m\u001b[0m\u001b[0;34m\u001b[0m\u001b[0m\n",
      "\u001b[0;31mAttributeError\u001b[0m: 'NoneType' object has no attribute 'text'"
     ]
    }
   ],
   "source": [
    "#song name\n",
    "name = item.find({\"class\": \"ChartsTable__StyledTruncatedTitle-sc-1ye7294-21 eGdjDX\"}).text\n",
    "name"
   ]
  },
  {
   "cell_type": "code",
   "execution_count": null,
   "id": "5352fd5c",
   "metadata": {},
   "outputs": [],
   "source": [
    "#artist\n"
   ]
  },
  {
   "cell_type": "code",
   "execution_count": null,
   "id": "e3cdfa38",
   "metadata": {},
   "outputs": [],
   "source": [
    "#peak\n"
   ]
  },
  {
   "cell_type": "code",
   "execution_count": null,
   "id": "d06ec34b",
   "metadata": {},
   "outputs": [],
   "source": [
    "#prev\n"
   ]
  },
  {
   "cell_type": "code",
   "execution_count": null,
   "id": "7a9f7ffc",
   "metadata": {},
   "outputs": [],
   "source": [
    "#streak\n"
   ]
  },
  {
   "cell_type": "code",
   "execution_count": null,
   "id": "9e319538",
   "metadata": {},
   "outputs": [],
   "source": [
    "#streams\n"
   ]
  },
  {
   "cell_type": "code",
   "execution_count": null,
   "id": "3c648e63",
   "metadata": {},
   "outputs": [],
   "source": []
  },
  {
   "cell_type": "code",
   "execution_count": 48,
   "id": "2fdebb2f",
   "metadata": {},
   "outputs": [
    {
     "ename": "ElementDoesNotExist",
     "evalue": "no elements could be found with css \".Button-me270r-0 jvbjPm ChartsTable__StyledButtonIcon-sc-1ye7294-15 kbAYto\"",
     "output_type": "error",
     "traceback": [
      "\u001b[0;31m---------------------------------------------------------------------------\u001b[0m",
      "\u001b[0;31mIndexError\u001b[0m                                Traceback (most recent call last)",
      "\u001b[0;32m/opt/anaconda3/lib/python3.9/site-packages/splinter/element_list.py\u001b[0m in \u001b[0;36m__getitem__\u001b[0;34m(self, index)\u001b[0m\n\u001b[1;32m     38\u001b[0m         \u001b[0;32mtry\u001b[0m\u001b[0;34m:\u001b[0m\u001b[0;34m\u001b[0m\u001b[0;34m\u001b[0m\u001b[0m\n\u001b[0;32m---> 39\u001b[0;31m             \u001b[0;32mreturn\u001b[0m \u001b[0mself\u001b[0m\u001b[0;34m.\u001b[0m\u001b[0m_container\u001b[0m\u001b[0;34m[\u001b[0m\u001b[0mindex\u001b[0m\u001b[0;34m]\u001b[0m\u001b[0;34m\u001b[0m\u001b[0;34m\u001b[0m\u001b[0m\n\u001b[0m\u001b[1;32m     40\u001b[0m         \u001b[0;32mexcept\u001b[0m \u001b[0mIndexError\u001b[0m\u001b[0;34m:\u001b[0m\u001b[0;34m\u001b[0m\u001b[0;34m\u001b[0m\u001b[0m\n",
      "\u001b[0;31mIndexError\u001b[0m: list index out of range",
      "\nDuring handling of the above exception, another exception occurred:\n",
      "\u001b[0;31mElementDoesNotExist\u001b[0m                       Traceback (most recent call last)",
      "\u001b[0;32m/var/folders/93/69nrl93d0k36xslv9kn84gcc0000gn/T/ipykernel_13714/1977653569.py\u001b[0m in \u001b[0;36m<module>\u001b[0;34m\u001b[0m\n\u001b[1;32m      1\u001b[0m \u001b[0;31m#button for more infornation\u001b[0m\u001b[0;34m\u001b[0m\u001b[0;34m\u001b[0m\u001b[0m\n\u001b[0;32m----> 2\u001b[0;31m \u001b[0mbrowser\u001b[0m\u001b[0;34m.\u001b[0m\u001b[0mfind_by_css\u001b[0m\u001b[0;34m(\u001b[0m\u001b[0;34m\".Button-me270r-0 jvbjPm ChartsTable__StyledButtonIcon-sc-1ye7294-15 kbAYto\"\u001b[0m\u001b[0;34m)\u001b[0m\u001b[0;34m.\u001b[0m\u001b[0mclick\u001b[0m\u001b[0;34m(\u001b[0m\u001b[0;34m)\u001b[0m\u001b[0;34m\u001b[0m\u001b[0;34m\u001b[0m\u001b[0m\n\u001b[0m",
      "\u001b[0;32m/opt/anaconda3/lib/python3.9/site-packages/splinter/element_list.py\u001b[0m in \u001b[0;36m__getattr__\u001b[0;34m(self, name)\u001b[0m\n\u001b[1;32m     75\u001b[0m     \u001b[0;32mdef\u001b[0m \u001b[0m__getattr__\u001b[0m\u001b[0;34m(\u001b[0m\u001b[0mself\u001b[0m\u001b[0;34m,\u001b[0m \u001b[0mname\u001b[0m\u001b[0;34m)\u001b[0m\u001b[0;34m:\u001b[0m\u001b[0;34m\u001b[0m\u001b[0;34m\u001b[0m\u001b[0m\n\u001b[1;32m     76\u001b[0m         \u001b[0;32mtry\u001b[0m\u001b[0;34m:\u001b[0m\u001b[0;34m\u001b[0m\u001b[0;34m\u001b[0m\u001b[0m\n\u001b[0;32m---> 77\u001b[0;31m             \u001b[0;32mreturn\u001b[0m \u001b[0mgetattr\u001b[0m\u001b[0;34m(\u001b[0m\u001b[0mself\u001b[0m\u001b[0;34m.\u001b[0m\u001b[0mfirst\u001b[0m\u001b[0;34m,\u001b[0m \u001b[0mname\u001b[0m\u001b[0;34m)\u001b[0m\u001b[0;34m\u001b[0m\u001b[0;34m\u001b[0m\u001b[0m\n\u001b[0m\u001b[1;32m     78\u001b[0m         \u001b[0;32mexcept\u001b[0m \u001b[0mAttributeError\u001b[0m\u001b[0;34m:\u001b[0m\u001b[0;34m\u001b[0m\u001b[0;34m\u001b[0m\u001b[0m\n\u001b[1;32m     79\u001b[0m             \u001b[0;32mtry\u001b[0m\u001b[0;34m:\u001b[0m\u001b[0;34m\u001b[0m\u001b[0;34m\u001b[0m\u001b[0m\n",
      "\u001b[0;32m/opt/anaconda3/lib/python3.9/site-packages/splinter/element_list.py\u001b[0m in \u001b[0;36mfirst\u001b[0;34m(self)\u001b[0m\n\u001b[1;32m     53\u001b[0m             \u001b[0;34m>>\u001b[0m\u001b[0;34m>\u001b[0m \u001b[0;32massert\u001b[0m \u001b[0melement_list\u001b[0m\u001b[0;34m[\u001b[0m\u001b[0;36m0\u001b[0m\u001b[0;34m]\u001b[0m \u001b[0;34m==\u001b[0m \u001b[0melement_list\u001b[0m\u001b[0;34m.\u001b[0m\u001b[0mfirst\u001b[0m\u001b[0;34m\u001b[0m\u001b[0;34m\u001b[0m\u001b[0m\n\u001b[1;32m     54\u001b[0m         \"\"\"\n\u001b[0;32m---> 55\u001b[0;31m         \u001b[0;32mreturn\u001b[0m \u001b[0mself\u001b[0m\u001b[0;34m[\u001b[0m\u001b[0;36m0\u001b[0m\u001b[0;34m]\u001b[0m\u001b[0;34m\u001b[0m\u001b[0;34m\u001b[0m\u001b[0m\n\u001b[0m\u001b[1;32m     56\u001b[0m \u001b[0;34m\u001b[0m\u001b[0m\n\u001b[1;32m     57\u001b[0m     \u001b[0;34m@\u001b[0m\u001b[0mproperty\u001b[0m\u001b[0;34m\u001b[0m\u001b[0;34m\u001b[0m\u001b[0m\n",
      "\u001b[0;32m/opt/anaconda3/lib/python3.9/site-packages/splinter/element_list.py\u001b[0m in \u001b[0;36m__getitem__\u001b[0;34m(self, index)\u001b[0m\n\u001b[1;32m     39\u001b[0m             \u001b[0;32mreturn\u001b[0m \u001b[0mself\u001b[0m\u001b[0;34m.\u001b[0m\u001b[0m_container\u001b[0m\u001b[0;34m[\u001b[0m\u001b[0mindex\u001b[0m\u001b[0;34m]\u001b[0m\u001b[0;34m\u001b[0m\u001b[0;34m\u001b[0m\u001b[0m\n\u001b[1;32m     40\u001b[0m         \u001b[0;32mexcept\u001b[0m \u001b[0mIndexError\u001b[0m\u001b[0;34m:\u001b[0m\u001b[0;34m\u001b[0m\u001b[0;34m\u001b[0m\u001b[0m\n\u001b[0;32m---> 41\u001b[0;31m             raise ElementDoesNotExist(\n\u001b[0m\u001b[1;32m     42\u001b[0m                 u'no elements could be found with {0} \"{1}\"'.format(\n\u001b[1;32m     43\u001b[0m                     \u001b[0mself\u001b[0m\u001b[0;34m.\u001b[0m\u001b[0mfind_by\u001b[0m\u001b[0;34m,\u001b[0m \u001b[0mself\u001b[0m\u001b[0;34m.\u001b[0m\u001b[0mquery\u001b[0m\u001b[0;34m\u001b[0m\u001b[0;34m\u001b[0m\u001b[0m\n",
      "\u001b[0;31mElementDoesNotExist\u001b[0m: no elements could be found with css \".Button-me270r-0 jvbjPm ChartsTable__StyledButtonIcon-sc-1ye7294-15 kbAYto\""
     ]
    }
   ],
   "source": [
    "\n",
    "#button for more infornation\n",
    "browser.find_by_css(\".Button-me270r-0 jvbjPm ChartsTable__StyledButtonIcon-sc-1ye7294-15 kbAYto\").click()"
   ]
  },
  {
   "cell_type": "code",
   "execution_count": null,
   "id": "ac420466",
   "metadata": {},
   "outputs": [],
   "source": []
  },
  {
   "cell_type": "code",
   "execution_count": null,
   "id": "ffb62d8e",
   "metadata": {},
   "outputs": [],
   "source": []
  },
  {
   "cell_type": "code",
   "execution_count": null,
   "id": "d0c31e63",
   "metadata": {},
   "outputs": [],
   "source": []
  },
  {
   "cell_type": "code",
   "execution_count": null,
   "id": "74529bfc",
   "metadata": {},
   "outputs": [],
   "source": []
  },
  {
   "cell_type": "code",
   "execution_count": null,
   "id": "2dc890fe",
   "metadata": {},
   "outputs": [],
   "source": []
  },
  {
   "cell_type": "code",
   "execution_count": null,
   "id": "410b0297",
   "metadata": {},
   "outputs": [],
   "source": []
  },
  {
   "cell_type": "code",
   "execution_count": null,
   "id": "695a1c4e",
   "metadata": {},
   "outputs": [],
   "source": []
  },
  {
   "cell_type": "code",
   "execution_count": null,
   "id": "1494a7e3",
   "metadata": {},
   "outputs": [],
   "source": []
  },
  {
   "cell_type": "code",
   "execution_count": null,
   "id": "e02d4f84",
   "metadata": {},
   "outputs": [],
   "source": []
  },
  {
   "cell_type": "code",
   "execution_count": null,
   "id": "9e5d613a",
   "metadata": {},
   "outputs": [],
   "source": []
  },
  {
   "cell_type": "code",
   "execution_count": null,
   "id": "24cd942f",
   "metadata": {},
   "outputs": [],
   "source": []
  },
  {
   "cell_type": "code",
   "execution_count": null,
   "id": "431c9ccc",
   "metadata": {},
   "outputs": [],
   "source": []
  },
  {
   "cell_type": "code",
   "execution_count": null,
   "id": "cc5ef225",
   "metadata": {},
   "outputs": [],
   "source": []
  },
  {
   "cell_type": "code",
   "execution_count": null,
   "id": "60a52fee",
   "metadata": {},
   "outputs": [],
   "source": []
  },
  {
   "cell_type": "code",
   "execution_count": null,
   "id": "7eface45",
   "metadata": {},
   "outputs": [],
   "source": []
  },
  {
   "cell_type": "code",
   "execution_count": null,
   "id": "748498cb",
   "metadata": {},
   "outputs": [],
   "source": []
  },
  {
   "cell_type": "code",
   "execution_count": null,
   "id": "fae5bbaf",
   "metadata": {},
   "outputs": [],
   "source": []
  },
  {
   "cell_type": "code",
   "execution_count": null,
   "id": "8b288f45",
   "metadata": {},
   "outputs": [],
   "source": []
  },
  {
   "cell_type": "code",
   "execution_count": null,
   "id": "943ab220",
   "metadata": {},
   "outputs": [],
   "source": []
  },
  {
   "cell_type": "code",
   "execution_count": null,
   "id": "5d3839dd",
   "metadata": {},
   "outputs": [],
   "source": []
  },
  {
   "cell_type": "code",
   "execution_count": null,
   "id": "f1651fbb",
   "metadata": {},
   "outputs": [],
   "source": []
  },
  {
   "cell_type": "code",
   "execution_count": 3,
   "id": "fe0017f1",
   "metadata": {},
   "outputs": [],
   "source": [
    "#spotify tester login\n",
    "username = \"sabtester23@gmail.com\"\n",
    "password = \"password33#\""
   ]
  },
  {
   "cell_type": "code",
   "execution_count": 4,
   "id": "be7c0b24",
   "metadata": {},
   "outputs": [],
   "source": [
    "#login url:\n",
    "url = 'https://accounts.spotify.com/en/login'"
   ]
  },
  {
   "cell_type": "code",
   "execution_count": 5,
   "id": "37c462e2",
   "metadata": {},
   "outputs": [
    {
     "ename": "AttributeError",
     "evalue": "'WebDriver' object has no attribute 'find_element_by_id'",
     "output_type": "error",
     "traceback": [
      "\u001b[0;31m---------------------------------------------------------------------------\u001b[0m",
      "\u001b[0;31mAttributeError\u001b[0m                            Traceback (most recent call last)",
      "\u001b[0;32m/var/folders/93/69nrl93d0k36xslv9kn84gcc0000gn/T/ipykernel_13714/822786278.py\u001b[0m in \u001b[0;36m<module>\u001b[0;34m\u001b[0m\n\u001b[1;32m      1\u001b[0m \u001b[0mbrowser\u001b[0m\u001b[0;34m.\u001b[0m\u001b[0mvisit\u001b[0m\u001b[0;34m(\u001b[0m\u001b[0murl\u001b[0m\u001b[0;34m)\u001b[0m\u001b[0;34m\u001b[0m\u001b[0;34m\u001b[0m\u001b[0m\n\u001b[1;32m      2\u001b[0m \u001b[0;34m\u001b[0m\u001b[0m\n\u001b[0;32m----> 3\u001b[0;31m \u001b[0mbrowser\u001b[0m\u001b[0;34m.\u001b[0m\u001b[0mfind_element_by_id\u001b[0m\u001b[0;34m(\u001b[0m\u001b[0;34m'login-username'\u001b[0m\u001b[0;34m)\u001b[0m\u001b[0;34m.\u001b[0m\u001b[0msend_keys\u001b[0m\u001b[0;34m(\u001b[0m\u001b[0musername\u001b[0m\u001b[0;34m)\u001b[0m\u001b[0;34m\u001b[0m\u001b[0;34m\u001b[0m\u001b[0m\n\u001b[0m\u001b[1;32m      4\u001b[0m \u001b[0;34m\u001b[0m\u001b[0m\n\u001b[1;32m      5\u001b[0m \u001b[0mbrowser\u001b[0m\u001b[0;34m.\u001b[0m\u001b[0mfind_element_by_id\u001b[0m\u001b[0;34m(\u001b[0m\u001b[0;34m'login-password'\u001b[0m\u001b[0;34m)\u001b[0m\u001b[0;34m.\u001b[0m\u001b[0msend_keys\u001b[0m\u001b[0;34m(\u001b[0m\u001b[0mpassword\u001b[0m\u001b[0;34m)\u001b[0m\u001b[0;34m\u001b[0m\u001b[0;34m\u001b[0m\u001b[0m\n",
      "\u001b[0;31mAttributeError\u001b[0m: 'WebDriver' object has no attribute 'find_element_by_id'"
     ]
    }
   ],
   "source": [
    "\n",
    "browser.visit(url)\n",
    "\n",
    "browser.find_element_by_id('login-username').send_keys(username)\n",
    "\n",
    "browser.find_element_by_id('login-password').send_keys(password)\n",
    "\n",
    "browser.find_element_by_id('login-button').click()"
   ]
  },
  {
   "cell_type": "code",
   "execution_count": null,
   "id": "da28839b",
   "metadata": {},
   "outputs": [],
   "source": []
  }
 ],
 "metadata": {
  "kernelspec": {
   "display_name": "Python 3 (ipykernel)",
   "language": "python",
   "name": "python3"
  },
  "language_info": {
   "codemirror_mode": {
    "name": "ipython",
    "version": 3
   },
   "file_extension": ".py",
   "mimetype": "text/x-python",
   "name": "python",
   "nbconvert_exporter": "python",
   "pygments_lexer": "ipython3",
   "version": "3.9.7"
  }
 },
 "nbformat": 4,
 "nbformat_minor": 5
}
