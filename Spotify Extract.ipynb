{
 "cells": [
  {
   "cell_type": "code",
   "execution_count": 1,
   "id": "7f668e35",
   "metadata": {},
   "outputs": [],
   "source": [
    "#import dependencies\n",
    "from splinter import Browser\n",
    "from bs4 import BeautifulSoup\n",
    "from webdriver_manager.chrome import ChromeDriverManager\n",
    "from selenium import webdriver\n",
    "import pandas as pd\n",
    "\n",
    "\n",
    "#from selenium.webdriver.support.ui import WebDriverWait\n",
    "#import time"
   ]
  },
  {
   "cell_type": "code",
   "execution_count": 2,
   "id": "c7407217",
   "metadata": {},
   "outputs": [
    {
     "name": "stderr",
     "output_type": "stream",
     "text": [
      "\n",
      "\n",
      "====== WebDriver manager ======\n",
      "Current google-chrome version is 99.0.4844\n",
      "Get LATEST chromedriver version for 99.0.4844 google-chrome\n",
      "Trying to download new driver from https://chromedriver.storage.googleapis.com/99.0.4844.51/chromedriver_mac64.zip\n",
      "Driver has been saved in cache [/Users/sabrinaalves/.wdm/drivers/chromedriver/mac64/99.0.4844.51]\n"
     ]
    }
   ],
   "source": [
    "# Setup splinter\n",
    "executable_path = {'executable_path': ChromeDriverManager().install()}\n",
    "browser = Browser('chrome', **executable_path, headless=False)"
   ]
  },
  {
   "cell_type": "code",
   "execution_count": 4,
   "id": "0ddd9ce0",
   "metadata": {},
   "outputs": [],
   "source": [
    "\n",
    "#url for top music:\n",
    "url = 'https://charts.spotify.com/charts/view/regional-us-daily/2022-03-16'\n",
    "browser.visit(url)"
   ]
  },
  {
   "cell_type": "code",
   "execution_count": 6,
   "id": "959c3b99",
   "metadata": {},
   "outputs": [],
   "source": [
    "html = browser.html\n",
    "soup = BeautifulSoup(html, \"lxml\")"
   ]
  },
  {
   "cell_type": "code",
   "execution_count": null,
   "id": "14d758b3",
   "metadata": {},
   "outputs": [],
   "source": []
  },
  {
   "cell_type": "code",
   "execution_count": 7,
   "id": "fd737d97",
   "metadata": {},
   "outputs": [
    {
     "data": {
      "text/plain": [
       "<tr class=\"TableRow__TableRowElement-sc-1kuhzdh-0 efgyOe\"><td class=\"TableCell__TableCellElement-sc-1nn7cfv-0 dxDmxU\" style=\"background-color: white; border: 1px solid white; min-width: 48px;\"></td><td class=\"TableCell__TableCellElement-sc-1nn7cfv-0 dbzMca\"><div class=\"ChartPositionIndicator__PositionIndicator-sc-1iaae1g-0 foutzN\"><span aria-label=\"Current position\" class=\"Type__TypeElement-goli3j-0 bEhxrK\">1</span><div aria-label=\"Chart position no change\" class=\"ChartPositionIndicator__MovementBadge-sc-1iaae1g-1 hpjcDI\"><span class=\"Type__TypeElement-goli3j-0 kIhulN\"> – </span></div></div></td><td class=\"TableCell__TableCellElement-sc-1nn7cfv-0 dxDmxU\"><div class=\"ChartsTable__StyledThumbnail-sc-1ye7294-12 igdVon\"><div class=\"ChartsTable__ImageContainer-sc-1ye7294-19 FVoPV\"><img alt=\"Track image\" class=\"Image-sc-1u215sg-3 biGZvZ ChartsTable__StyledImage-sc-1ye7294-18 kyxyvY\" src=\"https://i.scdn.co/image/ab67616d00001e029e495fb707973f3390850eea\"/><a class=\"Button-me270r-0 jvbjPm ChartsTable__StyledButtonIcon-sc-1ye7294-15 kbAYto\" href=\"https://open.spotify.com/track/02MWAaffLxlfxAUY7c5dvx\" rel=\"noopener noreferrer\" target=\"_blank\" type=\"button\"><svg aria-label=\"Play song\" class=\"Svg-sc-1bi12j5-0 hDgDGI ChartsTable__StyledIconPlay-sc-1ye7294-17 iDPPzE play-icon\" height=\"32\" role=\"img\" viewbox=\"0 0 32 32\" width=\"32\"><path d=\"M9.5 27.134l17.785-10.268a1 1 0 000-1.732L9.5 4.866a1 1 0 00-1.5.866v20.536a1 1 0 001.5.866z\"></path></svg></a><div class=\"ChartsTable__Overlay-sc-1ye7294-14 jVShHq overlay\"></div></div><div class=\"ChartsTable__Wrapper-sc-1ye7294-13 dPmuOo\"><a href=\"https://open.spotify.com/track/02MWAaffLxlfxAUY7c5dvx\" rel=\"noopener noreferrer\" style=\"text-decoration: none;\" target=\"_blank\"><div><span class=\"Trigger-sc-1qpjssw-0 PYhSS\"><span class=\"TooltipTrigger__TriggerContainer-sc-13ojzs2-0 cMaALx\"><div class=\"ChartsTable__PopoverContainer-sc-1ye7294-10 jpQEJM\"><span class=\"ChartsTable__StyledTruncatedTitle-sc-1ye7294-21 eGdjDX\"> Heat Waves</span></div></span></span></div></a><div><span class=\"Trigger-sc-1qpjssw-0 PYhSS\"><span class=\"TooltipTrigger__TriggerContainer-sc-13ojzs2-0 cMaALx\"><div class=\"ChartsTable__PopoverContainer-sc-1ye7294-10 jpQEJM\"><div class=\"ChartsTable__StyledArtistsTruncatedDiv-sc-1ye7294-33 bZdWHA\"><p class=\"Type__TypeElement-goli3j-0 ebjAeb\"><span><a class=\"ChartsTable__StyledHyperlink-sc-1ye7294-29 kNSTFc\" href=\"https://open.spotify.com/artist/4yvcSjfu4PC0CYQyLy4wSq\" rel=\"noopener noreferrer\" target=\"_blank\">Glass Animals</a></span></p></div></div></span></span></div><span class=\"ChartsTable__StyledSubtitle-sc-1ye7294-22 lmawhB\"></span></div></div></td><td class=\"TableCell__TableCellElement-sc-1nn7cfv-0 dbzMca ChartsTable__RightTableCell-sc-1ye7294-2 gNLJrc\">1</td><td class=\"TableCell__TableCellElement-sc-1nn7cfv-0 dbzMca ChartsTable__RightTableCell-sc-1ye7294-2 gNLJrc\"><span>1</span></td><td class=\"TableCell__TableCellElement-sc-1nn7cfv-0 dbzMca ChartsTable__RightTableCell-sc-1ye7294-2 gNLJrc\">446</td><td class=\"TableCell__TableCellElement-sc-1nn7cfv-0 dxDmxU ChartsTable__RightTableCell-sc-1ye7294-2 gNLJrc\">934,726</td><td class=\"TableCell__TableCellElement-sc-1nn7cfv-0 hBXYUl\" style=\"min-width: 80px;\"></td><td class=\"TableCell__TableCellElement-sc-1nn7cfv-0 dxDmxU\" style=\"background-color: white; border: 1px solid white; min-width: 48px;\"></td></tr>"
      ]
     },
     "execution_count": 7,
     "metadata": {},
     "output_type": "execute_result"
    }
   ],
   "source": [
    "#get table items\n",
    "items = soup.find_all(\"tr\", {\"class\":\"TableRow__TableRowElement-sc-1kuhzdh-0 efgyOe\"})\n",
    "item= items[0]\n",
    "item"
   ]
  },
  {
   "cell_type": "code",
   "execution_count": 10,
   "id": "b6392c9c",
   "metadata": {},
   "outputs": [
    {
     "data": {
      "text/plain": [
       "200"
      ]
     },
     "execution_count": 10,
     "metadata": {},
     "output_type": "execute_result"
    }
   ],
   "source": [
    "len(items)"
   ]
  },
  {
   "cell_type": "code",
   "execution_count": 8,
   "id": "4a18b6ab",
   "metadata": {},
   "outputs": [
    {
     "data": {
      "text/plain": [
       "201"
      ]
     },
     "execution_count": 8,
     "metadata": {},
     "output_type": "execute_result"
    }
   ],
   "source": [
    "#alternative means of getting table; includes table header row\n",
    "container = soup.find(\"table\", {\"class\": \"Table__TableElement-evwssh-0 jCpqYV ChartsTable__StyledTable-sc-1ye7294-5 bgJkYy\"})\n",
    "rankings = container.find_all(\"tr\")\n",
    "len(rankings)\n"
   ]
  },
  {
   "cell_type": "code",
   "execution_count": 9,
   "id": "f08cb59b",
   "metadata": {},
   "outputs": [
    {
     "data": {
      "text/plain": [
       "<tr class=\"TableRow__TableRowElement-sc-1kuhzdh-0 efgyOe\"><td class=\"TableCell__TableCellElement-sc-1nn7cfv-0 dxDmxU\" style=\"background-color: white; border: 1px solid white; min-width: 48px;\"></td><td class=\"TableCell__TableCellElement-sc-1nn7cfv-0 dbzMca\"><div class=\"ChartPositionIndicator__PositionIndicator-sc-1iaae1g-0 foutzN\"><span aria-label=\"Current position\" class=\"Type__TypeElement-goli3j-0 bEhxrK\">1</span><div aria-label=\"Chart position no change\" class=\"ChartPositionIndicator__MovementBadge-sc-1iaae1g-1 hpjcDI\"><span class=\"Type__TypeElement-goli3j-0 kIhulN\"> – </span></div></div></td><td class=\"TableCell__TableCellElement-sc-1nn7cfv-0 dxDmxU\"><div class=\"ChartsTable__StyledThumbnail-sc-1ye7294-12 igdVon\"><div class=\"ChartsTable__ImageContainer-sc-1ye7294-19 FVoPV\"><img alt=\"Track image\" class=\"Image-sc-1u215sg-3 biGZvZ ChartsTable__StyledImage-sc-1ye7294-18 kyxyvY\" src=\"https://i.scdn.co/image/ab67616d00001e029e495fb707973f3390850eea\"/><a class=\"Button-me270r-0 jvbjPm ChartsTable__StyledButtonIcon-sc-1ye7294-15 kbAYto\" href=\"https://open.spotify.com/track/02MWAaffLxlfxAUY7c5dvx\" rel=\"noopener noreferrer\" target=\"_blank\" type=\"button\"><svg aria-label=\"Play song\" class=\"Svg-sc-1bi12j5-0 hDgDGI ChartsTable__StyledIconPlay-sc-1ye7294-17 iDPPzE play-icon\" height=\"32\" role=\"img\" viewbox=\"0 0 32 32\" width=\"32\"><path d=\"M9.5 27.134l17.785-10.268a1 1 0 000-1.732L9.5 4.866a1 1 0 00-1.5.866v20.536a1 1 0 001.5.866z\"></path></svg></a><div class=\"ChartsTable__Overlay-sc-1ye7294-14 jVShHq overlay\"></div></div><div class=\"ChartsTable__Wrapper-sc-1ye7294-13 dPmuOo\"><a href=\"https://open.spotify.com/track/02MWAaffLxlfxAUY7c5dvx\" rel=\"noopener noreferrer\" style=\"text-decoration: none;\" target=\"_blank\"><div><span class=\"Trigger-sc-1qpjssw-0 PYhSS\"><span class=\"TooltipTrigger__TriggerContainer-sc-13ojzs2-0 cMaALx\"><div class=\"ChartsTable__PopoverContainer-sc-1ye7294-10 jpQEJM\"><span class=\"ChartsTable__StyledTruncatedTitle-sc-1ye7294-21 eGdjDX\"> Heat Waves</span></div></span></span></div></a><div><span class=\"Trigger-sc-1qpjssw-0 PYhSS\"><span class=\"TooltipTrigger__TriggerContainer-sc-13ojzs2-0 cMaALx\"><div class=\"ChartsTable__PopoverContainer-sc-1ye7294-10 jpQEJM\"><div class=\"ChartsTable__StyledArtistsTruncatedDiv-sc-1ye7294-33 bZdWHA\"><p class=\"Type__TypeElement-goli3j-0 ebjAeb\"><span><a class=\"ChartsTable__StyledHyperlink-sc-1ye7294-29 kNSTFc\" href=\"https://open.spotify.com/artist/4yvcSjfu4PC0CYQyLy4wSq\" rel=\"noopener noreferrer\" target=\"_blank\">Glass Animals</a></span></p></div></div></span></span></div><span class=\"ChartsTable__StyledSubtitle-sc-1ye7294-22 lmawhB\"></span></div></div></td><td class=\"TableCell__TableCellElement-sc-1nn7cfv-0 dbzMca ChartsTable__RightTableCell-sc-1ye7294-2 gNLJrc\">1</td><td class=\"TableCell__TableCellElement-sc-1nn7cfv-0 dbzMca ChartsTable__RightTableCell-sc-1ye7294-2 gNLJrc\"><span>1</span></td><td class=\"TableCell__TableCellElement-sc-1nn7cfv-0 dbzMca ChartsTable__RightTableCell-sc-1ye7294-2 gNLJrc\">446</td><td class=\"TableCell__TableCellElement-sc-1nn7cfv-0 dxDmxU ChartsTable__RightTableCell-sc-1ye7294-2 gNLJrc\">934,726</td><td class=\"TableCell__TableCellElement-sc-1nn7cfv-0 hBXYUl\" style=\"min-width: 80px;\"></td><td class=\"TableCell__TableCellElement-sc-1nn7cfv-0 dxDmxU\" style=\"background-color: white; border: 1px solid white; min-width: 48px;\"></td></tr>"
      ]
     },
     "execution_count": 9,
     "metadata": {},
     "output_type": "execute_result"
    }
   ],
   "source": [
    "rankings[1]"
   ]
  },
  {
   "cell_type": "code",
   "execution_count": 11,
   "id": "fb8ecfe7",
   "metadata": {},
   "outputs": [
    {
     "data": {
      "text/plain": [
       "'1'"
      ]
     },
     "execution_count": 11,
     "metadata": {},
     "output_type": "execute_result"
    }
   ],
   "source": [
    "#ranking.sabrina\n",
    "rank = item.find(\"span\", {\"class\": \"Type__TypeElement-goli3j-0 bEhxrK\"}).text.strip()\n",
    "rank"
   ]
  },
  {
   "cell_type": "code",
   "execution_count": 12,
   "id": "b6e6f48b",
   "metadata": {},
   "outputs": [
    {
     "data": {
      "text/plain": [
       "'Heat Waves'"
      ]
     },
     "execution_count": 12,
     "metadata": {},
     "output_type": "execute_result"
    }
   ],
   "source": [
    "#song name.sabrina\n",
    "name = item.find(\"span\", {\"class\": \"Trigger-sc-1qpjssw-0 PYhSS\"}).text.strip()\n",
    "name"
   ]
  },
  {
   "cell_type": "code",
   "execution_count": 13,
   "id": "81ba4898",
   "metadata": {},
   "outputs": [
    {
     "data": {
      "text/plain": [
       "'Glass Animals'"
      ]
     },
     "execution_count": 13,
     "metadata": {},
     "output_type": "execute_result"
    }
   ],
   "source": [
    "#artist.sabrina\n",
    "artist = item.find(\"div\", {\"class\": \"ChartsTable__StyledArtistsTruncatedDiv-sc-1ye7294-33 bZdWHA\"}).text.strip()\n",
    "artist"
   ]
  },
  {
   "cell_type": "code",
   "execution_count": 15,
   "id": "94bfbd99",
   "metadata": {},
   "outputs": [
    {
     "data": {
      "text/plain": [
       "'934,726'"
      ]
     },
     "execution_count": 15,
     "metadata": {},
     "output_type": "execute_result"
    }
   ],
   "source": [
    "#streams\n",
    "streams = item.find(\"td\", {\"class\": \"TableCell__TableCellElement-sc-1nn7cfv-0 dxDmxU ChartsTable__RightTableCell-sc-1ye7294-2 gNLJrc\"}).text.strip()\n",
    "streams\n"
   ]
  },
  {
   "cell_type": "code",
   "execution_count": 16,
   "id": "af9d196e",
   "metadata": {},
   "outputs": [
    {
     "data": {
      "text/plain": [
       "[<td class=\"TableCell__TableCellElement-sc-1nn7cfv-0 dbzMca ChartsTable__RightTableCell-sc-1ye7294-2 gNLJrc\">1</td>,\n",
       " <td class=\"TableCell__TableCellElement-sc-1nn7cfv-0 dbzMca ChartsTable__RightTableCell-sc-1ye7294-2 gNLJrc\"><span>1</span></td>,\n",
       " <td class=\"TableCell__TableCellElement-sc-1nn7cfv-0 dbzMca ChartsTable__RightTableCell-sc-1ye7294-2 gNLJrc\">446</td>]"
      ]
     },
     "execution_count": 16,
     "metadata": {},
     "output_type": "execute_result"
    }
   ],
   "source": [
    "#peak, previous, streak\n",
    "extras = item.find_all(\"td\", {\"class\": \"TableCell__TableCellElement-sc-1nn7cfv-0 dbzMca ChartsTable__RightTableCell-sc-1ye7294-2 gNLJrc\"})\n",
    "extras\n"
   ]
  },
  {
   "cell_type": "code",
   "execution_count": 23,
   "id": "a435d031",
   "metadata": {},
   "outputs": [
    {
     "data": {
      "text/plain": [
       "'1'"
      ]
     },
     "execution_count": 23,
     "metadata": {},
     "output_type": "execute_result"
    }
   ],
   "source": [
    "#peak\n",
    "peak = extras[0].text.strip()\n",
    "peak"
   ]
  },
  {
   "cell_type": "code",
   "execution_count": 24,
   "id": "9f2528b5",
   "metadata": {},
   "outputs": [
    {
     "data": {
      "text/plain": [
       "'1'"
      ]
     },
     "execution_count": 24,
     "metadata": {},
     "output_type": "execute_result"
    }
   ],
   "source": [
    "#previous\n",
    "previous = extras[1].text.strip()\n",
    "previous"
   ]
  },
  {
   "cell_type": "code",
   "execution_count": 25,
   "id": "ca4785b9",
   "metadata": {},
   "outputs": [
    {
     "data": {
      "text/plain": [
       "'446'"
      ]
     },
     "execution_count": 25,
     "metadata": {},
     "output_type": "execute_result"
    }
   ],
   "source": [
    "#streak\n",
    "streak = extras[2].text.strip()\n",
    "streak"
   ]
  },
  {
   "cell_type": "code",
   "execution_count": 28,
   "id": "2d06f24c",
   "metadata": {},
   "outputs": [],
   "source": [
    "#create data table by looping through all items\n",
    "\n",
    "ranks= []\n",
    "songs = []\n",
    "artists= []\n",
    "streamCount= []\n",
    "peaks= []\n",
    "previousRank= []\n",
    "streaks= []\n",
    "\n",
    "for item in items:\n",
    "    rank = item.find(\"span\", {\"class\": \"Type__TypeElement-goli3j-0 bEhxrK\"}).text.strip()\n",
    "    name = item.find(\"span\", {\"class\": \"Trigger-sc-1qpjssw-0 PYhSS\"}).text.strip()\n",
    "    artist = item.find(\"div\", {\"class\": \"ChartsTable__StyledArtistsTruncatedDiv-sc-1ye7294-33 bZdWHA\"}).text.strip()\n",
    "    streams = item.find(\"td\", {\"class\": \"TableCell__TableCellElement-sc-1nn7cfv-0 dxDmxU ChartsTable__RightTableCell-sc-1ye7294-2 gNLJrc\"}).text.strip()\n",
    "    \n",
    "    extras = item.find_all(\"td\", {\"class\": \"TableCell__TableCellElement-sc-1nn7cfv-0 dbzMca ChartsTable__RightTableCell-sc-1ye7294-2 gNLJrc\"})\n",
    "    peak = extras[0].text.strip()\n",
    "    previous = extras[1].text.strip()\n",
    "    streak = extras[2].text.strip()\n",
    "\n",
    "    ranks.append(rank)\n",
    "    songs.append(name)\n",
    "    artists.append(artist)\n",
    "    streamCount.append(streams)\n",
    "    peaks.append(peak)\n",
    "    previousRank.append(previous)\n",
    "    streaks.append(streak)\n",
    "    "
   ]
  },
  {
   "cell_type": "code",
   "execution_count": 31,
   "id": "a3e5c576",
   "metadata": {},
   "outputs": [
    {
     "data": {
      "text/html": [
       "<div>\n",
       "<style scoped>\n",
       "    .dataframe tbody tr th:only-of-type {\n",
       "        vertical-align: middle;\n",
       "    }\n",
       "\n",
       "    .dataframe tbody tr th {\n",
       "        vertical-align: top;\n",
       "    }\n",
       "\n",
       "    .dataframe thead th {\n",
       "        text-align: right;\n",
       "    }\n",
       "</style>\n",
       "<table border=\"1\" class=\"dataframe\">\n",
       "  <thead>\n",
       "    <tr style=\"text-align: right;\">\n",
       "      <th></th>\n",
       "      <th>spotify_rank</th>\n",
       "      <th>song_name</th>\n",
       "      <th>artist</th>\n",
       "      <th>spotify_stream_count</th>\n",
       "      <th>peak_rank</th>\n",
       "      <th>previous_rank</th>\n",
       "      <th>streak_list</th>\n",
       "      <th>list_date</th>\n",
       "    </tr>\n",
       "  </thead>\n",
       "  <tbody>\n",
       "    <tr>\n",
       "      <th>0</th>\n",
       "      <td>1</td>\n",
       "      <td>Heat Waves</td>\n",
       "      <td>Glass Animals</td>\n",
       "      <td>934,726</td>\n",
       "      <td>1</td>\n",
       "      <td>1</td>\n",
       "      <td>446</td>\n",
       "      <td>03/16/2022</td>\n",
       "    </tr>\n",
       "    <tr>\n",
       "      <th>1</th>\n",
       "      <td>2</td>\n",
       "      <td>Super Gremlin</td>\n",
       "      <td>Kodak Black</td>\n",
       "      <td>733,927</td>\n",
       "      <td>2</td>\n",
       "      <td>3</td>\n",
       "      <td>108</td>\n",
       "      <td>03/16/2022</td>\n",
       "    </tr>\n",
       "    <tr>\n",
       "      <th>2</th>\n",
       "      <td>3</td>\n",
       "      <td>We Don't Talk About Bruno</td>\n",
       "      <td>Carolina Gaitán - La Gaita, Mauro Castillo, Ad...</td>\n",
       "      <td>726,391</td>\n",
       "      <td>1</td>\n",
       "      <td>4</td>\n",
       "      <td>81</td>\n",
       "      <td>03/16/2022</td>\n",
       "    </tr>\n",
       "    <tr>\n",
       "      <th>3</th>\n",
       "      <td>4</td>\n",
       "      <td>Something In The Way</td>\n",
       "      <td>Nirvana</td>\n",
       "      <td>723,210</td>\n",
       "      <td>2</td>\n",
       "      <td>2</td>\n",
       "      <td>11</td>\n",
       "      <td>03/16/2022</td>\n",
       "    </tr>\n",
       "    <tr>\n",
       "      <th>4</th>\n",
       "      <td>5</td>\n",
       "      <td>STAY (with Justin Bieber)</td>\n",
       "      <td>The Kid LAROI, Justin Bieber</td>\n",
       "      <td>679,258</td>\n",
       "      <td>1</td>\n",
       "      <td>5</td>\n",
       "      <td>251</td>\n",
       "      <td>03/16/2022</td>\n",
       "    </tr>\n",
       "  </tbody>\n",
       "</table>\n",
       "</div>"
      ],
      "text/plain": [
       "  spotify_rank                  song_name  \\\n",
       "0            1                 Heat Waves   \n",
       "1            2              Super Gremlin   \n",
       "2            3  We Don't Talk About Bruno   \n",
       "3            4       Something In The Way   \n",
       "4            5  STAY (with Justin Bieber)   \n",
       "\n",
       "                                              artist spotify_stream_count  \\\n",
       "0                                      Glass Animals              934,726   \n",
       "1                                        Kodak Black              733,927   \n",
       "2  Carolina Gaitán - La Gaita, Mauro Castillo, Ad...              726,391   \n",
       "3                                            Nirvana              723,210   \n",
       "4                       The Kid LAROI, Justin Bieber              679,258   \n",
       "\n",
       "  peak_rank previous_rank streak_list   list_date  \n",
       "0         1             1         446  03/16/2022  \n",
       "1         2             3         108  03/16/2022  \n",
       "2         1             4          81  03/16/2022  \n",
       "3         2             2          11  03/16/2022  \n",
       "4         1             5         251  03/16/2022  "
      ]
     },
     "execution_count": 31,
     "metadata": {},
     "output_type": "execute_result"
    }
   ],
   "source": [
    "spotify = pd.DataFrame()\n",
    "\n",
    "spotify[\"spotify_rank\"] = ranks\n",
    "spotify[\"song_name\"] = songs\n",
    "spotify[\"artist\"] = artists\n",
    "spotify[\"spotify_stream_count\"] = streamCount\n",
    "spotify[\"peak_rank\"] = peaks\n",
    "spotify[\"previous_rank\"] = previousRank\n",
    "spotify[\"streak_list\"] = streaks\n",
    "spotify[\"list_date\"] = \"03/16/2022\"\n",
    "\n",
    "spotify.head()"
   ]
  },
  {
   "cell_type": "code",
   "execution_count": 32,
   "id": "028a7da6",
   "metadata": {},
   "outputs": [],
   "source": [
    "#create csv\n",
    "spotify.to_csv(\"Spotify_data.csv\")"
   ]
  },
  {
   "cell_type": "code",
   "execution_count": null,
   "id": "117caf6c",
   "metadata": {},
   "outputs": [],
   "source": []
  },
  {
   "cell_type": "code",
   "execution_count": null,
   "id": "6a2fa586",
   "metadata": {},
   "outputs": [],
   "source": []
  },
  {
   "cell_type": "code",
   "execution_count": null,
   "id": "28858927",
   "metadata": {},
   "outputs": [],
   "source": []
  },
  {
   "cell_type": "code",
   "execution_count": null,
   "id": "93b0c4ec",
   "metadata": {},
   "outputs": [],
   "source": []
  },
  {
   "cell_type": "markdown",
   "id": "611bc3a7",
   "metadata": {},
   "source": [
    "# Table under button (attempt)"
   ]
  },
  {
   "cell_type": "markdown",
   "id": "dcf152b3",
   "metadata": {},
   "source": [
    "##### button uses mouseover to appear. I attempted to use an action chain to perform the series of actions (mouseover and then click) to no effect; attempts resulted in error: \"move_to requires a WebElement\". We fetched the data provided under the button from an api instead.\n"
   ]
  },
  {
   "cell_type": "code",
   "execution_count": 34,
   "id": "53e62eff",
   "metadata": {},
   "outputs": [],
   "source": [
    "from selenium.webdriver.common.action_chains import ActionChains"
   ]
  },
  {
   "cell_type": "code",
   "execution_count": 35,
   "id": "d2c6470c",
   "metadata": {},
   "outputs": [],
   "source": [
    "#http://allselenium.info/mouse-over-actions-using-python-selenium-webdriver/"
   ]
  },
  {
   "cell_type": "code",
   "execution_count": 36,
   "id": "448a8efe",
   "metadata": {},
   "outputs": [
    {
     "ename": "AttributeError",
     "evalue": "move_to requires a WebElement",
     "output_type": "error",
     "traceback": [
      "\u001b[0;31m---------------------------------------------------------------------------\u001b[0m",
      "\u001b[0;31mAttributeError\u001b[0m                            Traceback (most recent call last)",
      "\u001b[0;32m/var/folders/93/69nrl93d0k36xslv9kn84gcc0000gn/T/ipykernel_28472/665626741.py\u001b[0m in \u001b[0;36m<module>\u001b[0;34m\u001b[0m\n\u001b[1;32m      3\u001b[0m \u001b[0;31m#find hover over button\u001b[0m\u001b[0;34m\u001b[0m\u001b[0;34m\u001b[0m\u001b[0m\n\u001b[1;32m      4\u001b[0m \u001b[0mfirstLevelMenu\u001b[0m \u001b[0;34m=\u001b[0m \u001b[0mbrowser\u001b[0m\u001b[0;34m.\u001b[0m\u001b[0mfind_by_xpath\u001b[0m\u001b[0;34m(\u001b[0m\u001b[0;34m\"/html/body/div[1]/div/div/main/div[2]/div[3]/div/table/tbody/tr[1]/td[4]\"\u001b[0m\u001b[0;34m)\u001b[0m\u001b[0;34m.\u001b[0m\u001b[0mclick\u001b[0m\u001b[0;34m(\u001b[0m\u001b[0;34m)\u001b[0m\u001b[0;34m\u001b[0m\u001b[0;34m\u001b[0m\u001b[0m\n\u001b[0;32m----> 5\u001b[0;31m \u001b[0maction\u001b[0m\u001b[0;34m.\u001b[0m\u001b[0mmove_to_element\u001b[0m\u001b[0;34m(\u001b[0m\u001b[0mfirstLevelMenu\u001b[0m\u001b[0;34m)\u001b[0m\u001b[0;34m.\u001b[0m\u001b[0mperform\u001b[0m\u001b[0;34m(\u001b[0m\u001b[0;34m)\u001b[0m\u001b[0;34m\u001b[0m\u001b[0;34m\u001b[0m\u001b[0m\n\u001b[0m\u001b[1;32m      6\u001b[0m \u001b[0;34m\u001b[0m\u001b[0m\n\u001b[1;32m      7\u001b[0m \u001b[0;31m#click more button\u001b[0m\u001b[0;34m\u001b[0m\u001b[0;34m\u001b[0m\u001b[0m\n",
      "\u001b[0;32m/opt/anaconda3/lib/python3.9/site-packages/selenium/webdriver/common/action_chains.py\u001b[0m in \u001b[0;36mmove_to_element\u001b[0;34m(self, to_element)\u001b[0m\n\u001b[1;32m    246\u001b[0m         \"\"\"\n\u001b[1;32m    247\u001b[0m \u001b[0;34m\u001b[0m\u001b[0m\n\u001b[0;32m--> 248\u001b[0;31m         \u001b[0mself\u001b[0m\u001b[0;34m.\u001b[0m\u001b[0mw3c_actions\u001b[0m\u001b[0;34m.\u001b[0m\u001b[0mpointer_action\u001b[0m\u001b[0;34m.\u001b[0m\u001b[0mmove_to\u001b[0m\u001b[0;34m(\u001b[0m\u001b[0mto_element\u001b[0m\u001b[0;34m)\u001b[0m\u001b[0;34m\u001b[0m\u001b[0;34m\u001b[0m\u001b[0m\n\u001b[0m\u001b[1;32m    249\u001b[0m         \u001b[0mself\u001b[0m\u001b[0;34m.\u001b[0m\u001b[0mw3c_actions\u001b[0m\u001b[0;34m.\u001b[0m\u001b[0mkey_action\u001b[0m\u001b[0;34m.\u001b[0m\u001b[0mpause\u001b[0m\u001b[0;34m(\u001b[0m\u001b[0;34m)\u001b[0m\u001b[0;34m\u001b[0m\u001b[0;34m\u001b[0m\u001b[0m\n\u001b[1;32m    250\u001b[0m \u001b[0;34m\u001b[0m\u001b[0m\n",
      "\u001b[0;32m/opt/anaconda3/lib/python3.9/site-packages/selenium/webdriver/common/actions/pointer_actions.py\u001b[0m in \u001b[0;36mmove_to\u001b[0;34m(self, element, x, y, width, height, pressure, tangential_pressure, tilt_x, tilt_y, twist, altitude_angle, azimuth_angle)\u001b[0m\n\u001b[1;32m     55\u001b[0m                 altitude_angle=None, azimuth_angle=None):\n\u001b[1;32m     56\u001b[0m         \u001b[0;32mif\u001b[0m \u001b[0;32mnot\u001b[0m \u001b[0misinstance\u001b[0m\u001b[0;34m(\u001b[0m\u001b[0melement\u001b[0m\u001b[0;34m,\u001b[0m \u001b[0mWebElement\u001b[0m\u001b[0;34m)\u001b[0m\u001b[0;34m:\u001b[0m\u001b[0;34m\u001b[0m\u001b[0;34m\u001b[0m\u001b[0m\n\u001b[0;32m---> 57\u001b[0;31m             \u001b[0;32mraise\u001b[0m \u001b[0mAttributeError\u001b[0m\u001b[0;34m(\u001b[0m\u001b[0;34m\"move_to requires a WebElement\"\u001b[0m\u001b[0;34m)\u001b[0m\u001b[0;34m\u001b[0m\u001b[0;34m\u001b[0m\u001b[0m\n\u001b[0m\u001b[1;32m     58\u001b[0m \u001b[0;34m\u001b[0m\u001b[0m\n\u001b[1;32m     59\u001b[0m         \u001b[0;32mif\u001b[0m \u001b[0mx\u001b[0m \u001b[0;32mor\u001b[0m \u001b[0my\u001b[0m\u001b[0;34m:\u001b[0m\u001b[0;34m\u001b[0m\u001b[0;34m\u001b[0m\u001b[0m\n",
      "\u001b[0;31mAttributeError\u001b[0m: move_to requires a WebElement"
     ]
    }
   ],
   "source": [
    "action = ActionChains(browser)\n",
    "\n",
    "#find hover over button\n",
    "firstLevelMenu = browser.find_by_xpath(\"/html/body/div[1]/div/div/main/div[2]/div[3]/div/table/tbody/tr[1]/td[4]\").click()\n",
    "action.move_to_element(firstLevelMenu).perform()\n",
    "\n",
    "#click more button\n",
    "secondLevelMenu = browser.find_by_xpath(\"/html/body/div[1]/div/div/main/div[2]/div[3]/div/table/tbody/tr[1]/td[4]/span/button\")\n",
    "secondLevelMenu.click()\n",
    "\n",
    "html = browser.html\n",
    "soup = BeautifulSoup(html, \"lxml\")\n"
   ]
  },
  {
   "cell_type": "code",
   "execution_count": null,
   "id": "77ca53f6",
   "metadata": {},
   "outputs": [],
   "source": [
    "action = ActionChains(browser)\n",
    "\n",
    "#find hover over button\n",
    "#firstLevelMenu = browser.find_by_xpath(\"/html/body/div[1]/div/div/main/div[2]/div[3]/div/table/tbody/tr[1]/td[4]\")\n",
    "action.move_to_element(browser.find_by_xpath(\"/html/body/div[1]/div/div/main/div[2]/div[3]/div/table/tbody/tr[1]/td[4]\")).perform()\n",
    "\n",
    "#click more button\n",
    "browser.find_by_xpath(\"/html/body/div[1]/div/div/main/div[2]/div[3]/div/table/tbody/tr[1]/td[4]/span/button\").click()\n"
   ]
  },
  {
   "cell_type": "code",
   "execution_count": null,
   "id": "4763c3b2",
   "metadata": {},
   "outputs": [],
   "source": [
    "#div class that changes with hover\n",
    "firstLevelMenu = browser.find_by_xpath(\"/html/body/div[1]/div/div/main/div[2]/div[3]/div/table/tbody/tr[1]/td[4]\")\n",
    "\n",
    "#button that appears after hover\n",
    "secondLevelMenu = browser.find_by_xpath(\"/html/body/div[1]/div/div/main/div[2]/div[3]/div/table/tbody/tr[1]/td[4]/span/button\")\n",
    "\n",
    "first = soup.find(\"td\", {\"class\": \"TableCell__TableCellElement-sc-1nn7cfv-0 hBXYUl\"})\n",
    "\n",
    "second= soup.find(\"\")\n"
   ]
  },
  {
   "cell_type": "code",
   "execution_count": null,
   "id": "283c2edc",
   "metadata": {},
   "outputs": [],
   "source": []
  },
  {
   "cell_type": "code",
   "execution_count": null,
   "id": "c202706b",
   "metadata": {},
   "outputs": [],
   "source": [
    "action = ActionChains(browser)\n",
    "\n",
    "#find hover over button\n",
    "#first = browser.find_element_by_css_selector(\"TableCell__TableCellElement-sc-1nn7cfv-0 hBXYUl\")\n",
    "action.move_to_element(firstLevelMenu).click().perform()\n",
    "\n",
    "#click more button\n",
    "#secondLevelMenu = browser.find_element_by_xpath(\"/html/body/div[1]/div/div/main/div[2]/div[3]/div/table/tbody/tr[1]/td[4]/span/button\")\n",
    "secondLevelMenu.click()\n",
    "\n"
   ]
  },
  {
   "cell_type": "code",
   "execution_count": null,
   "id": "674b79df",
   "metadata": {},
   "outputs": [],
   "source": [
    "table = soup.find(\"tr\", {\"class\": \"TableRow__TableRowElement-sc-1kuhzdh-0 gQBtoH\"})\n",
    "table"
   ]
  },
  {
   "cell_type": "code",
   "execution_count": null,
   "id": "8274aff8",
   "metadata": {},
   "outputs": [],
   "source": [
    "more_info = soup.find(\"table\", {\"class\": \"Table__TableElement-evwssh-0 jCpqYV ChartsTable__ExpandedRowTable-sc-1ye7294-6 cYRPSH\"})\n",
    "more_info\n"
   ]
  },
  {
   "cell_type": "code",
   "execution_count": null,
   "id": "c397e076",
   "metadata": {},
   "outputs": [],
   "source": [
    "#peak\n"
   ]
  },
  {
   "cell_type": "code",
   "execution_count": null,
   "id": "29e84686",
   "metadata": {},
   "outputs": [],
   "source": [
    "#prev day\n"
   ]
  },
  {
   "cell_type": "code",
   "execution_count": null,
   "id": "cbb1d24f",
   "metadata": {},
   "outputs": [],
   "source": [
    "#streak\n"
   ]
  },
  {
   "cell_type": "code",
   "execution_count": null,
   "id": "c2186690",
   "metadata": {},
   "outputs": [],
   "source": [
    "#streams\n"
   ]
  },
  {
   "cell_type": "code",
   "execution_count": null,
   "id": "8fc5ef0f",
   "metadata": {},
   "outputs": [],
   "source": [
    "#release date\n"
   ]
  },
  {
   "cell_type": "code",
   "execution_count": null,
   "id": "dbeffb8e",
   "metadata": {},
   "outputs": [],
   "source": [
    "#first entry date\n"
   ]
  },
  {
   "cell_type": "code",
   "execution_count": null,
   "id": "e34fb374",
   "metadata": {},
   "outputs": [],
   "source": [
    "#first entry positon\n"
   ]
  },
  {
   "cell_type": "code",
   "execution_count": null,
   "id": "d3b6fdd1",
   "metadata": {},
   "outputs": [],
   "source": [
    "#total days on chart\n"
   ]
  },
  {
   "cell_type": "code",
   "execution_count": null,
   "id": "82a92423",
   "metadata": {},
   "outputs": [],
   "source": [
    "#p"
   ]
  },
  {
   "cell_type": "code",
   "execution_count": null,
   "id": "5e89e9bf",
   "metadata": {},
   "outputs": [],
   "source": []
  },
  {
   "cell_type": "code",
   "execution_count": null,
   "id": "2c6c59d7",
   "metadata": {},
   "outputs": [],
   "source": []
  },
  {
   "cell_type": "code",
   "execution_count": null,
   "id": "b5e3425c",
   "metadata": {},
   "outputs": [],
   "source": []
  }
 ],
 "metadata": {
  "kernelspec": {
   "display_name": "Python 3 (ipykernel)",
   "language": "python",
   "name": "python3"
  },
  "language_info": {
   "codemirror_mode": {
    "name": "ipython",
    "version": 3
   },
   "file_extension": ".py",
   "mimetype": "text/x-python",
   "name": "python",
   "nbconvert_exporter": "python",
   "pygments_lexer": "ipython3",
   "version": "3.9.7"
  }
 },
 "nbformat": 4,
 "nbformat_minor": 5
}
